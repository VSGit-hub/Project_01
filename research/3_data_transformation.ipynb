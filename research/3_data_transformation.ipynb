{
 "cells": [
  {
   "cell_type": "code",
   "execution_count": 1,
   "id": "955e23f5",
   "metadata": {},
   "outputs": [],
   "source": [
    "import os"
   ]
  },
  {
   "cell_type": "code",
   "execution_count": 2,
   "id": "7ea43364",
   "metadata": {},
   "outputs": [
    {
     "data": {
      "text/plain": [
       "'c:\\\\Users\\\\Vaibhav\\\\Desktop\\\\Course\\\\12_project_1\\\\Project_01\\\\research'"
      ]
     },
     "execution_count": 2,
     "metadata": {},
     "output_type": "execute_result"
    }
   ],
   "source": [
    "%pwd"
   ]
  },
  {
   "cell_type": "code",
   "execution_count": 3,
   "id": "001167c7",
   "metadata": {},
   "outputs": [],
   "source": [
    "os.chdir(\"../\")"
   ]
  },
  {
   "cell_type": "code",
   "execution_count": 4,
   "id": "bf8faffd",
   "metadata": {},
   "outputs": [
    {
     "data": {
      "text/plain": [
       "'c:\\\\Users\\\\Vaibhav\\\\Desktop\\\\Course\\\\12_project_1\\\\Project_01'"
      ]
     },
     "execution_count": 4,
     "metadata": {},
     "output_type": "execute_result"
    }
   ],
   "source": [
    "%pwd"
   ]
  },
  {
   "cell_type": "code",
   "execution_count": 6,
   "id": "8220b5a9",
   "metadata": {},
   "outputs": [],
   "source": [
    "from dataclasses import dataclass\n",
    "from pathlib import Path\n",
    "\n",
    "@dataclass\n",
    "class DataTransformationConfig:\n",
    "    root_dir: Path\n",
    "    data_path: Path"
   ]
  },
  {
   "cell_type": "code",
   "execution_count": 7,
   "id": "f43672f2",
   "metadata": {},
   "outputs": [],
   "source": [
    "from src.datascience_project.constants import *\n",
    "from src.datascience_project.utils.common import read_yaml, create_directory"
   ]
  },
  {
   "cell_type": "code",
   "execution_count": 9,
   "id": "3d873c90",
   "metadata": {},
   "outputs": [],
   "source": [
    "class ConfigurationManager:\n",
    "    def __init__(\n",
    "        self,\n",
    "        config_filepath = CONFIG_FILE_PATH,\n",
    "        params_filepath = PARAMS_FILE_PATH,\n",
    "        schema_filepath = SCHEMA_FILE_PATH):\n",
    "\n",
    "        self.config = read_yaml(config_filepath)\n",
    "        self.params = read_yaml(params_filepath)\n",
    "        self.schema = read_yaml(schema_filepath)\n",
    "\n",
    "        create_directory([self.config.artifacts_root])\n",
    "\n",
    "    def get_data_tranformation_config(self) -> DataTransformationConfig:\n",
    "        config = self.config.data_transformation\n",
    "        create_directory([config.root_dir])\n",
    "        data_transfromation_config=DataTransformationConfig(\n",
    "            root_dir=config.root_dir,\n",
    "            data_path = config.data_path\n",
    "        )\n",
    "        return data_transfromation_config\n"
   ]
  },
  {
   "cell_type": "code",
   "execution_count": 11,
   "id": "c42661fe",
   "metadata": {},
   "outputs": [],
   "source": [
    "import os\n",
    "from src.datascience_project import logger\n",
    "from sklearn.model_selection import train_test_split\n",
    "import pandas as pd"
   ]
  },
  {
   "cell_type": "code",
   "execution_count": 12,
   "id": "8c96b817",
   "metadata": {},
   "outputs": [],
   "source": [
    "class DataTransformation:\n",
    "    def __init__(self, config: DataTransformationConfig):\n",
    "        self.config = config\n",
    "\n",
    "    def train_test_split(self):\n",
    "        data = pd.read_csv(self.config.data_path)\n",
    "\n",
    "        train, test = train_test_split(data)\n",
    "\n",
    "        train.to_csv(os.path.join(self.config.root_dir, \"train.csv\"), index=False)\n",
    "        test.to_csv(os.path.join(self.config.root_dir, \"test.csv\"), index=False)\n",
    "\n",
    "        logger.info(\"splitted the Data into trian test split\")\n",
    "        logger.info(train.shape)\n",
    "        logger.info(test.shape)\n",
    "\n",
    "        print(train.shape, test.shape)"
   ]
  },
  {
   "cell_type": "code",
   "execution_count": 13,
   "id": "6b5530d4",
   "metadata": {},
   "outputs": [
    {
     "name": "stdout",
     "output_type": "stream",
     "text": [
      "[2025-05-03 17:02:33,058: INFO: common: yaml file config\\config.yaml loaded successfully]\n",
      "[2025-05-03 17:02:33,067: INFO: common: yaml file params.yaml loaded successfully]\n",
      "[2025-05-03 17:02:33,074: INFO: common: yaml file schema.yaml loaded successfully]\n",
      "[2025-05-03 17:02:33,077: INFO: common: created directory at: artifacts]\n",
      "[2025-05-03 17:02:33,083: INFO: common: created directory at: artifacts/data_transformation]\n",
      "[2025-05-03 17:02:33,131: INFO: 1429089077: splitted the Data into trian test split]\n",
      "[2025-05-03 17:02:33,132: INFO: 1429089077: (1199, 12)]\n",
      "[2025-05-03 17:02:33,133: INFO: 1429089077: (400, 12)]\n",
      "(1199, 12) (400, 12)\n"
     ]
    }
   ],
   "source": [
    "try:\n",
    "    config = ConfigurationManager()\n",
    "    data_transformation_config = config.get_data_tranformation_config()\n",
    "    data_transformation = DataTransformation(config=data_transformation_config)\n",
    "    data_transformation.train_test_split()\n",
    "except Exception as e:\n",
    "    raise e"
   ]
  },
  {
   "cell_type": "code",
   "execution_count": null,
   "id": "33e65c1e",
   "metadata": {},
   "outputs": [],
   "source": []
  }
 ],
 "metadata": {
  "kernelspec": {
   "display_name": "Python 3",
   "language": "python",
   "name": "python3"
  },
  "language_info": {
   "codemirror_mode": {
    "name": "ipython",
    "version": 3
   },
   "file_extension": ".py",
   "mimetype": "text/x-python",
   "name": "python",
   "nbconvert_exporter": "python",
   "pygments_lexer": "ipython3",
   "version": "3.12.0"
  }
 },
 "nbformat": 4,
 "nbformat_minor": 5
}
